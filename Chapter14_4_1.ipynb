{
  "nbformat": 4,
  "nbformat_minor": 0,
  "metadata": {
    "colab": {
      "provenance": [],
      "authorship_tag": "ABX9TyM0recky3TnlF4uWLfNAHJ+",
      "include_colab_link": true
    },
    "kernelspec": {
      "name": "python3",
      "display_name": "Python 3"
    },
    "language_info": {
      "name": "python"
    }
  },
  "cells": [
    {
      "cell_type": "markdown",
      "metadata": {
        "id": "view-in-github",
        "colab_type": "text"
      },
      "source": [
        "<a href=\"https://colab.research.google.com/github/sherlywinbongalon/OOP-DUMPS/blob/main/Chapter14_4_1.ipynb\" target=\"_parent\"><img src=\"https://colab.research.google.com/assets/colab-badge.svg\" alt=\"Open In Colab\"/></a>"
      ]
    },
    {
      "cell_type": "code",
      "execution_count": 140,
      "metadata": {
        "colab": {
          "base_uri": "https://localhost:8080/"
        },
        "id": "HwAA7ySUlMTD",
        "outputId": "752fce8c-2523-4fd4-a44b-da96ecbc11c7"
      },
      "outputs": [
        {
          "output_type": "stream",
          "name": "stdout",
          "text": [
            "Result is inaccurate, enter integers\n",
            "0.0 : 7.0\n",
            "0.0 : 0.0 : 7.0\n"
          ]
        }
      ],
      "source": [
        "class Time:\n",
        "    def __init__(self, seconds):  # Define the class method\n",
        "        if not isinstance(seconds, int):\n",
        "            print(\"Result is inaccurate, enter integers\")\n",
        "        elif seconds < 0:\n",
        "            print(\"Result is inaccurate, input must be a non-negative value\")\n",
        "        self.seconds = seconds\n",
        "\n",
        "    def minutes(self):  # Define the second and third method for conversion\n",
        "        mins = self.seconds // 60\n",
        "        seconds = self.seconds % 60\n",
        "        print(mins, \":\", (round(seconds, 2)))\n",
        "\n",
        "    def hours(self):\n",
        "        hrs = self.seconds // 3600\n",
        "        mins = (self.seconds % 3600) // 60\n",
        "        seconds = self.seconds % 60\n",
        "        print(hrs, \":\", (round(mins, 2)), \":\", (round(seconds, 2)))\n",
        "\n",
        "\n",
        "time = Time(7.0)  # Call the function with the input value\n",
        "\n",
        "time.minutes()\n",
        "time.hours()"
      ]
    }
  ]
}