{
  "nbformat": 4,
  "nbformat_minor": 0,
  "metadata": {
    "colab": {
      "provenance": [],
      "authorship_tag": "ABX9TyM02LKjpcpgT8ZpFDwI9a+L",
      "include_colab_link": true
    },
    "kernelspec": {
      "name": "python3",
      "display_name": "Python 3"
    },
    "language_info": {
      "name": "python"
    }
  },
  "cells": [
    {
      "cell_type": "markdown",
      "metadata": {
        "id": "view-in-github",
        "colab_type": "text"
      },
      "source": [
        "<a href=\"https://colab.research.google.com/github/sherlywinbongalon/OOP-DUMPS/blob/main/2.0Bongalon%2C_Capacia%2C_Cortez_(Function).ipynb\" target=\"_parent\"><img src=\"https://colab.research.google.com/assets/colab-badge.svg\" alt=\"Open In Colab\"/></a>"
      ]
    },
    {
      "cell_type": "code",
      "source": [
        "# Bongalon, Capacia, Cortez\n",
        "# BSCPE 1-2\n",
        "# Item no.2\n",
        "\n",
        "# Define base20 function\n",
        "def base20(num):\n",
        "    letters = \"ABCDEFGHIJKLMNOPQRST\"\n",
        "    result = \"\"\n",
        "\n",
        "    if num == 0:\n",
        "        return \"A\"\n",
        "\n",
        "    while num > 0:\n",
        "        digit = num % 20\n",
        "        result = letters[digit] + result\n",
        "        num //= 20\n",
        "\n",
        "    return result\n",
        "\n",
        "# Enter number to return string\n",
        "input_num = int(input(\"Put a number:\"))\n",
        "\n",
        "# Display output\n",
        "print(base20(input_num))"
      ],
      "metadata": {
        "colab": {
          "base_uri": "https://localhost:8080/"
        },
        "id": "OZMvUkP_klhk",
        "outputId": "4dc9bf28-a2ff-4065-bdce-800c499a08a8"
      },
      "execution_count": 4,
      "outputs": [
        {
          "output_type": "stream",
          "name": "stdout",
          "text": [
            "Put a number:678\n",
            "BNS\n"
          ]
        }
      ]
    }
  ]
}