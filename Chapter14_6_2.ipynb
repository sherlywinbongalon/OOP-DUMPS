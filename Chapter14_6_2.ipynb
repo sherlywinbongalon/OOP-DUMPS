{
  "nbformat": 4,
  "nbformat_minor": 0,
  "metadata": {
    "colab": {
      "provenance": [],
      "authorship_tag": "ABX9TyOXghtV9+PFawjO9SHfrup9",
      "include_colab_link": true
    },
    "kernelspec": {
      "name": "python3",
      "display_name": "Python 3"
    },
    "language_info": {
      "name": "python"
    }
  },
  "cells": [
    {
      "cell_type": "markdown",
      "metadata": {
        "id": "view-in-github",
        "colab_type": "text"
      },
      "source": [
        "<a href=\"https://colab.research.google.com/github/sherlywinbongalon/OOP-DUMPS/blob/main/Chapter14_6_2.ipynb\" target=\"_parent\"><img src=\"https://colab.research.google.com/assets/colab-badge.svg\" alt=\"Open In Colab\"/></a>"
      ]
    },
    {
      "cell_type": "code",
      "execution_count": 66,
      "metadata": {
        "colab": {
          "base_uri": "https://localhost:8080/"
        },
        "id": "qlJ_Y8pu6Elz",
        "outputId": "bfb7bbc4-7832-4832-e5c2-b75e395ca5d4"
      },
      "outputs": [
        {
          "output_type": "execute_result",
          "data": {
            "text/plain": [
              "177.0"
            ]
          },
          "metadata": {},
          "execution_count": 66
        }
      ],
      "source": [
        "class Converter:   # Define class and its constructor\n",
        "    def __init__(self,length, unit):\n",
        "        if not isinstance(length, int):\n",
        "            print(\"Inaccurate result, length must be integer\")\n",
        "        elif length < 0:\n",
        "            print(\"Inaccurate result, length must be s non-negative integer\")\n",
        "        elif not isinstance(unit, str):\n",
        "            print(\"Inaccurate result, please enter a valid unit of measure\")\n",
        "        self.length = length\n",
        "        self.unit = unit.lower()\n",
        "\n",
        "\n",
        "# Define the methods to convert the length into different unit of measures\n",
        "\n",
        "    def inches(self):\n",
        "        if self.unit == 'inches':\n",
        "            return \"Invalid, enter another unit\"\n",
        "        elif self.unit == 'feet':\n",
        "            return self.length * 12\n",
        "        elif self.unit == 'yards':\n",
        "            return self.length * 36\n",
        "        elif self.unit == 'miles':\n",
        "            return self.length * 63360\n",
        "        elif self.unit == 'kilometers':\n",
        "            return self.length * 39370.1\n",
        "        elif self.unit == 'meters':\n",
        "            return self.length * 39.3701\n",
        "        elif self.unit == 'centimeters':\n",
        "            return self.length * 0.393701\n",
        "        elif self.unit == 'millimeters':\n",
        "            return self.length * 0.0393701\n",
        "        else:\n",
        "            print(\"Invalid unit\")\n",
        "\n",
        "    def feet(self):\n",
        "        if self.unit == 'feet':\n",
        "            print(\"Inaccurate result, enter another unit\")\n",
        "        return self.inches() / 12\n",
        "\n",
        "    def yards(self):\n",
        "        if self.unit == 'yards':\n",
        "            print(\"Inaccurate result, enter another unit\")\n",
        "        return self.inches() / 36\n",
        "\n",
        "    def miles(self):\n",
        "        if self.unit == 'miles':\n",
        "            print(\"Inaccurate result, enter another unit\")\n",
        "        return self.inches() / 63360\n",
        "\n",
        "    def kilometers(self):\n",
        "        if self.unit == 'kilometers':\n",
        "            print(\"Inaccurate result, enter another unit\")\n",
        "        return self.inches() / 39370.1\n",
        "\n",
        "    def meters(self):\n",
        "        if self.unit == 'meters':\n",
        "            print(\"Inaccurate result, enter another unit\")\n",
        "        return (self.inches() / 39.3701)\n",
        "\n",
        "    def centimeters(self):\n",
        "        if self.unit == 'centimeters':\n",
        "            print(\"Inaccurate result, enter another unit\")\n",
        "        return self.inches() / 0.393701\n",
        "\n",
        "    def millimeters(self):\n",
        "        if self.unit == 'millimeters':\n",
        "            print(\"Inaccurate result, enter another unit\")\n",
        "        return self.inches() / 0.0393701\n",
        "\n",
        "# Declare the length and unit then call the function\n",
        "c = Converter(59, 'yards')\n",
        "c.feet()"
      ]
    }
  ]
}