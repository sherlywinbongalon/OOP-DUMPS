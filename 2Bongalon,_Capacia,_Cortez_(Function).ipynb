{
  "nbformat": 4,
  "nbformat_minor": 0,
  "metadata": {
    "colab": {
      "provenance": [],
      "authorship_tag": "ABX9TyNWmSKQW+UzDY2USpFGuBw0",
      "include_colab_link": true
    },
    "kernelspec": {
      "name": "python3",
      "display_name": "Python 3"
    },
    "language_info": {
      "name": "python"
    }
  },
  "cells": [
    {
      "cell_type": "markdown",
      "metadata": {
        "id": "view-in-github",
        "colab_type": "text"
      },
      "source": [
        "<a href=\"https://colab.research.google.com/github/sherlywinbongalon/OOP-DUMPS/blob/main/2Bongalon%2C_Capacia%2C_Cortez_(Function).ipynb\" target=\"_parent\"><img src=\"https://colab.research.google.com/assets/colab-badge.svg\" alt=\"Open In Colab\"/></a>"
      ]
    },
    {
      "cell_type": "code",
      "source": [
        "# Define base20 function\n",
        "def base20(num):\n",
        "    letters = \"ABCDEFGHIJKLMNOPQRST\"\n",
        "    result = \"\"\n",
        "\n",
        "    if num == 0:\n",
        "        return \"A\"\n",
        "\n",
        "    while num > 0:\n",
        "        digit = num % 20\n",
        "        result = letters[digit] + result\n",
        "        num //= 20\n",
        "\n",
        "    return result\n",
        "\n",
        "# Enter number to return string\n",
        "input_num = int(input(\"Put a number:\"))\n",
        "\n",
        "# Display output\n",
        "print(base20(input_num))"
      ],
      "metadata": {
        "colab": {
          "base_uri": "https://localhost:8080/"
        },
        "id": "OZMvUkP_klhk",
        "outputId": "ee096f55-17e3-4134-d6c5-a8e2a7e74444"
      },
      "execution_count": 2,
      "outputs": [
        {
          "output_type": "stream",
          "name": "stdout",
          "text": [
            "Put a number:678\n",
            "BNS\n"
          ]
        }
      ]
    }
  ]
}