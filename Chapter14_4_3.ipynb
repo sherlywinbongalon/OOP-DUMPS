{
  "nbformat": 4,
  "nbformat_minor": 0,
  "metadata": {
    "colab": {
      "provenance": [],
      "authorship_tag": "ABX9TyPzSMs2uKHA1bCzPZi6rd2l",
      "include_colab_link": true
    },
    "kernelspec": {
      "name": "python3",
      "display_name": "Python 3"
    },
    "language_info": {
      "name": "python"
    }
  },
  "cells": [
    {
      "cell_type": "markdown",
      "metadata": {
        "id": "view-in-github",
        "colab_type": "text"
      },
      "source": [
        "<a href=\"https://colab.research.google.com/github/sherlywinbongalon/OOP-DUMPS/blob/main/Chapter14_4_3.ipynb\" target=\"_parent\"><img src=\"https://colab.research.google.com/assets/colab-badge.svg\" alt=\"Open In Colab\"/></a>"
      ]
    },
    {
      "cell_type": "code",
      "execution_count": 141,
      "metadata": {
        "colab": {
          "base_uri": "https://localhost:8080/"
        },
        "id": "HwAA7ySUlMTD",
        "outputId": "86dd6c62-ac9d-473e-b491-c822851cc551"
      },
      "outputs": [
        {
          "output_type": "stream",
          "name": "stdout",
          "text": [
            "96 : 29\n",
            "1 : 36 : 29\n"
          ]
        }
      ],
      "source": [
        "class Time:\n",
        "    def __init__(self, seconds):  # Define the class method\n",
        "        if not isinstance(seconds, int):\n",
        "            print(\"Result is inaccurate, enter integers\")\n",
        "        elif seconds < 0:\n",
        "            print(\"Result is inaccurate, input must be a non-negative value\")\n",
        "        self.seconds = seconds\n",
        "\n",
        "    def minutes(self):  # Define the second and third method for conversion\n",
        "        mins = self.seconds // 60\n",
        "        seconds = self.seconds % 60\n",
        "        print(mins, \":\", (round(seconds, 2)))\n",
        "\n",
        "    def hours(self):\n",
        "        hrs = self.seconds // 3600\n",
        "        mins = (self.seconds % 3600) // 60\n",
        "        seconds = self.seconds % 60\n",
        "        print(hrs, \":\", (round(mins, 2)), \":\", (round(seconds, 2)))\n",
        "\n",
        "\n",
        "time = Time(5789)  # Call the function with the input value\n",
        "\n",
        "time.minutes()\n",
        "time.hours()"
      ]
    }
  ]
}