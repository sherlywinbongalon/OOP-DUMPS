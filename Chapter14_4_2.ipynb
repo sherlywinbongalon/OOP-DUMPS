{
  "nbformat": 4,
  "nbformat_minor": 0,
  "metadata": {
    "colab": {
      "provenance": [],
      "authorship_tag": "ABX9TyN/dRWyEHthCjeXlJKUCpNU",
      "include_colab_link": true
    },
    "kernelspec": {
      "name": "python3",
      "display_name": "Python 3"
    },
    "language_info": {
      "name": "python"
    }
  },
  "cells": [
    {
      "cell_type": "markdown",
      "metadata": {
        "id": "view-in-github",
        "colab_type": "text"
      },
      "source": [
        "<a href=\"https://colab.research.google.com/github/sherlywinbongalon/OOP-DUMPS/blob/main/Chapter14_4_2.ipynb\" target=\"_parent\"><img src=\"https://colab.research.google.com/assets/colab-badge.svg\" alt=\"Open In Colab\"/></a>"
      ]
    },
    {
      "cell_type": "code",
      "execution_count": 139,
      "metadata": {
        "colab": {
          "base_uri": "https://localhost:8080/"
        },
        "id": "HwAA7ySUlMTD",
        "outputId": "e42d2bce-6208-4486-90b1-032d3e2e92df"
      },
      "outputs": [
        {
          "output_type": "stream",
          "name": "stdout",
          "text": [
            "Result is inaccurate, input must be a non-negative value\n",
            "-2 : 30\n",
            "-1 : 58 : 30\n"
          ]
        }
      ],
      "source": [
        "class Time:\n",
        "    def __init__(self, seconds):  # Define the class method\n",
        "        if not isinstance(seconds, int):\n",
        "            print(\"Result is inaccurate, enter integers\")\n",
        "        elif seconds < 0:\n",
        "            print(\"Result is inaccurate, input must be a non-negative value\")\n",
        "        self.seconds = seconds\n",
        "\n",
        "    def minutes(self):  # Define the second and third method for conversion\n",
        "        mins = self.seconds // 60\n",
        "        seconds = self.seconds % 60\n",
        "        print(mins, \":\", (round(seconds, 2)))\n",
        "\n",
        "    def hours(self):\n",
        "        hrs = self.seconds // 3600\n",
        "        mins = (self.seconds % 3600) // 60\n",
        "        seconds = self.seconds % 60\n",
        "        print(hrs, \":\", (round(mins, 2)), \":\", (round(seconds, 2)))\n",
        "\n",
        "\n",
        "time = Time(-90)  # Call the function with the input value\n",
        "\n",
        "time.minutes()\n",
        "time.hours()"
      ]
    }
  ]
}