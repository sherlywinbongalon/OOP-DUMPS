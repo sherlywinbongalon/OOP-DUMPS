{
  "nbformat": 4,
  "nbformat_minor": 0,
  "metadata": {
    "colab": {
      "provenance": [],
      "authorship_tag": "ABX9TyMbdCrcMj93JChV+lWL+VAW",
      "include_colab_link": true
    },
    "kernelspec": {
      "name": "python3",
      "display_name": "Python 3"
    },
    "language_info": {
      "name": "python"
    }
  },
  "cells": [
    {
      "cell_type": "markdown",
      "metadata": {
        "id": "view-in-github",
        "colab_type": "text"
      },
      "source": [
        "<a href=\"https://colab.research.google.com/github/sherlywinbongalon/OOP-DUMPS/blob/main/1.0Bongalon%2C_Capacia%2C_Cortez_(Function).ipynb\" target=\"_parent\"><img src=\"https://colab.research.google.com/assets/colab-badge.svg\" alt=\"Open In Colab\"/></a>"
      ]
    },
    {
      "cell_type": "code",
      "execution_count": 18,
      "metadata": {
        "colab": {
          "base_uri": "https://localhost:8080/"
        },
        "id": "mwE-po6ellYR",
        "outputId": "212c9702-7def-4859-bac9-7e09cc063d8c"
      },
      "outputs": [
        {
          "output_type": "stream",
          "name": "stdout",
          "text": [
            "The root is 2\n"
          ]
        }
      ],
      "source": [
        "# Bongalon, Capacia, Cortez\n",
        "# BSCPE 1-2\n",
        "# Item no. 1\n",
        "\n",
        "# Define the function\n",
        "def sum_digit_root(num):\n",
        "    n = str(num)\n",
        "    if len(n) <= 1:\n",
        "        return num\n",
        "    else:\n",
        "        digit_sum = 0\n",
        "        for i in range(len(n)):\n",
        "            digit_sum += int(n[i])\n",
        "        return sum_digit_root(digit_sum)\n",
        "\n",
        "# Call the function with the desired number\n",
        "sum_digit_root(45893)\n",
        "\n",
        "# Display output\n",
        "print(\"The root is\", sum_digit_root(45893))"
      ]
    }
  ]
}